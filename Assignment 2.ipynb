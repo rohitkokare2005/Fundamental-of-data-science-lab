{
 "cells": [
  {
   "cell_type": "code",
   "execution_count": 2,
   "id": "2111a492",
   "metadata": {},
   "outputs": [
    {
     "data": {
      "text/html": [
       "<div>\n",
       "<style scoped>\n",
       "    .dataframe tbody tr th:only-of-type {\n",
       "        vertical-align: middle;\n",
       "    }\n",
       "\n",
       "    .dataframe tbody tr th {\n",
       "        vertical-align: top;\n",
       "    }\n",
       "\n",
       "    .dataframe thead th {\n",
       "        text-align: right;\n",
       "    }\n",
       "</style>\n",
       "<table border=\"1\" class=\"dataframe\">\n",
       "  <thead>\n",
       "    <tr style=\"text-align: right;\">\n",
       "      <th></th>\n",
       "      <th>Student</th>\n",
       "      <th>Gender</th>\n",
       "      <th>stream</th>\n",
       "      <th>Attendance(%)</th>\n",
       "      <th>Study hours/Week</th>\n",
       "      <th>Grade</th>\n",
       "      <th>Hostel Resident</th>\n",
       "    </tr>\n",
       "  </thead>\n",
       "  <tbody>\n",
       "    <tr>\n",
       "      <th>0</th>\n",
       "      <td>A</td>\n",
       "      <td>Male</td>\n",
       "      <td>Science</td>\n",
       "      <td>85</td>\n",
       "      <td>10</td>\n",
       "      <td>B</td>\n",
       "      <td>Yes</td>\n",
       "    </tr>\n",
       "    <tr>\n",
       "      <th>1</th>\n",
       "      <td>B</td>\n",
       "      <td>Female</td>\n",
       "      <td>Commers</td>\n",
       "      <td>92</td>\n",
       "      <td>14</td>\n",
       "      <td>A</td>\n",
       "      <td>No</td>\n",
       "    </tr>\n",
       "    <tr>\n",
       "      <th>2</th>\n",
       "      <td>C</td>\n",
       "      <td>Male</td>\n",
       "      <td>Art</td>\n",
       "      <td>75</td>\n",
       "      <td>7</td>\n",
       "      <td>C</td>\n",
       "      <td>Yes</td>\n",
       "    </tr>\n",
       "    <tr>\n",
       "      <th>3</th>\n",
       "      <td>D</td>\n",
       "      <td>Female</td>\n",
       "      <td>Science</td>\n",
       "      <td>88</td>\n",
       "      <td>11</td>\n",
       "      <td>B</td>\n",
       "      <td>No</td>\n",
       "    </tr>\n",
       "    <tr>\n",
       "      <th>4</th>\n",
       "      <td>E</td>\n",
       "      <td>Male</td>\n",
       "      <td>Commerse</td>\n",
       "      <td>60</td>\n",
       "      <td>6</td>\n",
       "      <td>D</td>\n",
       "      <td>Yes</td>\n",
       "    </tr>\n",
       "  </tbody>\n",
       "</table>\n",
       "</div>"
      ],
      "text/plain": [
       "  Student  Gender    stream  Attendance(%)  Study hours/Week Grade  \\\n",
       "0       A    Male   Science             85                10     B   \n",
       "1       B  Female   Commers             92                14     A   \n",
       "2       C    Male       Art             75                 7     C   \n",
       "3       D  Female   Science             88                11     B   \n",
       "4       E    Male  Commerse             60                 6     D   \n",
       "\n",
       "  Hostel Resident  \n",
       "0             Yes  \n",
       "1              No  \n",
       "2             Yes  \n",
       "3              No  \n",
       "4             Yes  "
      ]
     },
     "execution_count": 2,
     "metadata": {},
     "output_type": "execute_result"
    }
   ],
   "source": [
    "import pandas as pd\n",
    "\n",
    "\n",
    "data = {\n",
    "    'Student': ['A', 'B', 'C', 'D','E'],\n",
    "    'Gender': ['Male', 'Female', 'Male', 'Female','Male'],\n",
    "    'stream':['Science','Commers','Art','Science','Commerse'],\n",
    "    'Attendance(%)':[85,92,75,88,60],\n",
    "    'Study hours/Week':[10,14,7,11,6],\n",
    "    'Grade':['B','A','C','B','D'],\n",
    "    'Hostel Resident':['Yes','No','Yes','No','Yes']\n",
    "}\n",
    "\n",
    "df = pd.DataFrame(data)\n",
    "df"
   ]
  },
  {
   "cell_type": "code",
   "execution_count": 3,
   "id": "2b667fb3",
   "metadata": {},
   "outputs": [
    {
     "name": "stdout",
     "output_type": "stream",
     "text": [
      "Student: Qualitative - Nominal\n",
      "Gender: Qualitative - Nominal\n",
      "Stream: Qualitative - Ordinal\n",
      "Attendance(%): Quantitative - Discrete\n",
      "Study hours/Week: Quantitative - Continuous\n",
      "Grade: Qualitative - Nominal\n",
      "Hstel Resident: Qualitative - Nominal\n"
     ]
    }
   ],
   "source": [
    "column_types = {\n",
    "    'Student': 'Qualitative - Nominal',\n",
    "    'Gender': 'Qualitative - Nominal',\n",
    "    'Stream': 'Qualitative - Ordinal',\n",
    "    'Attendance(%)': 'Quantitative - Discrete',\n",
    "    'Study hours/Week': 'Quantitative - Continuous',\n",
    "    'Grade': 'Qualitative - Nominal',\n",
    "    'Hstel Resident': 'Qualitative - Nominal'\n",
    "}\n",
    "\n",
    "for col, dtype in column_types.items():\n",
    "    print(f\"{col}: {dtype}\")"
   ]
  },
  {
   "cell_type": "code",
   "execution_count": 5,
   "id": "17123ec3",
   "metadata": {},
   "outputs": [
    {
     "data": {
      "text/plain": [
       "Student             object\n",
       "Gender              object\n",
       "stream              object\n",
       "Attendance(%)        int64\n",
       "Study hours/Week     int64\n",
       "Grade               object\n",
       "Hostel Resident     object\n",
       "dtype: object"
      ]
     },
     "execution_count": 5,
     "metadata": {},
     "output_type": "execute_result"
    }
   ],
   "source": [
    "df.dtypes"
   ]
  }
 ],
 "metadata": {
  "kernelspec": {
   "display_name": "Python 3",
   "language": "python",
   "name": "python3"
  },
  "language_info": {
   "codemirror_mode": {
    "name": "ipython",
    "version": 3
   },
   "file_extension": ".py",
   "mimetype": "text/x-python",
   "name": "python",
   "nbconvert_exporter": "python",
   "pygments_lexer": "ipython3",
   "version": "3.13.5"
  }
 },
 "nbformat": 4,
 "nbformat_minor": 5
}
